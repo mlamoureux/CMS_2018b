{
 "cells": [
  {
   "cell_type": "markdown",
   "metadata": {
    "slideshow": {
     "slide_type": "slide"
    }
   },
   "source": [
    "# <center> Inverse theory in imaging </center>\n",
    "\n",
    "## <center> Michael Lamoureux </center>\n",
    "\n",
    "#### <center> CMS Winter 2018, Vancouver </center>\n"
   ]
  },
  {
   "cell_type": "markdown",
   "metadata": {
    "slideshow": {
     "slide_type": "slide"
    }
   },
   "source": [
    "## Goal of seismic imaging\n",
    "- find and produce oil and gas\n",
    "- find and produce more oil and gas\n",
    "- economically, legally"
   ]
  },
  {
   "cell_type": "markdown",
   "metadata": {
    "slideshow": {
     "slide_type": "slide"
    }
   },
   "source": [
    "## Goal of medical imaging\n",
    "- heal the patient\n",
    "- quickly, economically, legally/ethically"
   ]
  },
  {
   "cell_type": "markdown",
   "metadata": {
    "slideshow": {
     "slide_type": "slide"
    }
   },
   "source": [
    "## Evolution of sub-goals (seismic)\n",
    "1.  Detect anomalies\n",
    "2. Locate anomalies\n",
    "3. Image geological formations\n",
    "4. Image and identify lithography\n",
    "5. Image and identify fluids"
   ]
  },
  {
   "cell_type": "markdown",
   "metadata": {
    "slideshow": {
     "slide_type": "slide"
    }
   },
   "source": [
    "## Evolution of algorithms\n",
    "1. Plotting raw seismic data\n",
    "2. Hand tracing of hyperbolas\n",
    "3. Hand computation of time/space conversions, moveout\n",
    "4. Signal processing, automation\n",
    "5. Mathematical modeling, inverse theory"
   ]
  },
  {
   "cell_type": "markdown",
   "metadata": {
    "slideshow": {
     "slide_type": "slide"
    }
   },
   "source": [
    "## Evolution of sensing equipment\n",
    "1. Analog geophones (magnet/coil), tape recording\n",
    "2. Digital geophones (magnet/coil, 24bit ADC), digital recording\n",
    "3. 3C geophones + hydrophones\n",
    "4. 3C MEMS accelerometers\n",
    "5. DAS fibre optic sensors \n",
    "6. Dynamite, thumpers, Vibroseis sources"
   ]
  },
  {
   "cell_type": "markdown",
   "metadata": {
    "slideshow": {
     "slide_type": "slide"
    }
   },
   "source": [
    "## Evolution of models\n",
    "1. 1D seismic reflectivity\n",
    "2. Ray tracing, Kirchoff migration\n",
    "2. 2D, 3D wave equations\n",
    "3. Acoustic wave equation, 1 or 2 variable coefficients\n",
    "3. Elastic wave equation\n",
    "4. Visco-elastic wave equation, with fluids"
   ]
  },
  {
   "cell_type": "markdown",
   "metadata": {
    "slideshow": {
     "slide_type": "slide"
    }
   },
   "source": [
    "## Processing flow (from AAPG)\n",
    "1. Demultiplex\n",
    "2. Edit\n",
    "3. Geometry\n",
    "4. Antialias filter\n",
    "5. Gain recovery\n",
    "6. Deconvolution\n",
    "7. Statics\n",
    "8. Demultiple\n",
    "9. f–k or apparent velocity filter\n",
    "10. Normal moveout (NMO) correction\n",
    "11. Dip moveout (DMO) correction\n",
    "12. Common midpoint (CMP) stack\n",
    "13. Poststack filter\n",
    "14. Poststack mix"
   ]
  },
  {
   "cell_type": "markdown",
   "metadata": {
    "slideshow": {
     "slide_type": "slide"
    }
   },
   "source": [
    "## Processing flow in full waveform inversion (SLIM/UBC)\n",
    "\n",
    "<center><img src=\"FWI_schematic.png\" width=\"1000\"  /></center>"
   ]
  },
  {
   "cell_type": "markdown",
   "metadata": {
    "slideshow": {
     "slide_type": "slide"
    }
   },
   "source": [
    "## <center> Examples: FD simulation  of wave equation</center>\n",
    "\n",
    "A wave packet travelling from high velocity area, to low velocity .\n",
    "\n",
    "Transmitted wave has a shorter wavelength, different angle of attack. \n",
    "\n",
    "The angles are related by Snell's law. "
   ]
  },
  {
   "cell_type": "code",
   "execution_count": 3,
   "metadata": {
    "slideshow": {
     "slide_type": "skip"
    }
   },
   "outputs": [
    {
     "name": "stdout",
     "output_type": "stream",
     "text": [
      "Overwriting myFile1.html\n"
     ]
    }
   ],
   "source": [
    "%%writefile myFile1.html\n",
    "<!DOCTYPE html>\n",
    "<html><head id=\"Barebones\">\n",
    "        <meta charset=\"UTF-8\" />\n",
    "        <meta name=\"viewport\" content=\"width=device-width, initial-scale=1.0\" />\n",
    "        <script src=\"GPGPUtility.js\"></script>\n",
    "        <script src=\"WaveEqn.js\"></script>\n",
    "        <script src=\"WavePlot.js\"></script>\n",
    "        <title>WebGL wave example</title>\n",
    "        </head>\n",
    "        <body>\n",
    "        <button id=\"startbutton\">Restart</button> <p>\n",
    "        <div class=\"content\">\n",
    "            <h1>Snell's law: a refracting wave packet. Click \"Restart\" for animation</h1>\n",
    "\n",
    "\n",
    "            <figure class=\"center\" id=\"results\">\n",
    "                <figcaption>\n",
    "                    You should see a waveform traveling here. \n",
    "                </figcaption>\n",
    "            </figure>\n",
    "        </div>\n",
    "\n",
    "        <br class=\"clear\" />\n",
    "        <script>\n",
    "        startbutton.addEventListener('click', function (ev) {\n",
    "            location.reload();\n",
    "            ev.preventDefault();\n",
    "        }, false);\n",
    "        </script>\n",
    "        \n",
    "        <script>\n",
    "            \"use strict\";\n",
    "\n",
    "            /** The canvas onto which we render the wave function & potential */\n",
    "            var canvas;\n",
    "            var dt;\n",
    "            var gl;\n",
    "            var gpgpUtility;\n",
    "            var nframes;\n",
    "            var nsteps;\n",
    "            var parent;\n",
    "            var renderer;\n",
    "            var vel_top;\n",
    "            var vel_bot;\n",
    "            var wp;\n",
    "            var wt;\n",
    "            var wlen;\n",
    "            var wang;\n",
    "            var waveengine;\n",
    "            var waveFunctionData, waveFunctionDataD, waveFunctionTexture0, waveFunctionTexture1, waveFunctionTexture2;\n",
    "            var x0;\n",
    "            var y0;\n",
    "            var xLength;\n",
    "            var xResolution;\n",
    "            var yLength;\n",
    "            var yResolution;\n",
    "\n",
    "\n",
    "            // Physical parameters for the wave motion simulation\n",
    "            \n",
    "            xLength = 4000.0; // in meters\n",
    "            yLength = 4000.0; // in meters\n",
    "            vel_top = 1000.0; // velocity in m/s, in top half\n",
    "            vel_bot = 500.0; // velocity in m/s, in bottom half\n",
    "            x0 = .25*xLength; // location of initial Gaussian\n",
    "            y0 = .75*yLength;\n",
    "            wp = 0.05*xLength; // width of the initial Gaussian wave, propagating direction\n",
    "            wt = 0.05*xLength; // width of the initial Gaussian wave, transverse direction\n",
    "            wlen = .05*xLength; // wavelength of the propagating wave\n",
    "            wang = -45; // propagation angle in degrees (0 is horizontal, to the right)\n",
    "\n",
    "            // Parameters for the numerical simulation\n",
    "            \n",
    "            xResolution = 1000; // number of sample points (x-dir y-dir)\n",
    "            yResolution = 1000; \n",
    "            dt = .001; // sample interval for time, in seconds\n",
    "            nframes = 600; // Total number of frames to compute and display\n",
    "            nsteps = 5; // Number of delta t timesteps per frams\n",
    "\n",
    "            // Setup the GPU and canvas to diplay results\n",
    "            \n",
    "            gpgpUtility = new vizit.utility.GPGPUtility(xResolution, yResolution, {premultipliedAlpha: false});\n",
    "            gpgpUtility.setProblemSize(xResolution, yResolution);\n",
    "\n",
    "            canvas = gpgpUtility.getCanvas();\n",
    "            canvas.style.height = yResolution + \"px\";\n",
    "            parent = document.getElementById(\"results\")\n",
    "            parent.insertBefore(canvas, parent.firstChild);\n",
    "            \n",
    "            // an initial plane wave, constrained\n",
    "            function f_plane(x,w,lambda) {\n",
    "                return Math.exp(-(x*x)/(w*w))*Math.cos(2*Math.PI*x/lambda);\n",
    "            }\n",
    "            // the corresponding derivative\n",
    "            function f_planeD(x,w,lambda) {\n",
    "                return -Math.exp(-(x*x)/(w*w))*((2*x/(w*w))*Math.cos(2*Math.PI*x/lambda)+\n",
    "                                                (2*Math.PI/lambda)*Math.sin(2*Math.PI*x/lambda));\n",
    "            }\n",
    "            // a window in the transverse direction\n",
    "            function f_win(y,w) {\n",
    "                return Math.exp(-(y*y)/(w*w));\n",
    "            }\n",
    "            // the corresponding derivative\n",
    "            function f_winD(y,w) {\n",
    "                return -Math.exp(-(y*y)/(w*w))*(2*y/(w*w));\n",
    "            }\n",
    " \n",
    "            // the initial waveform\n",
    "            function gaussWaveform(waveform,xRez,yRez,xLen,yLen) {\n",
    "                var aa = Math.cos(Math.PI*wang/180); // rotation matrix\n",
    "                var bb = Math.sin(Math.PI*wang/180);\n",
    "                for (var j = 0; j < yRez; ++j) {\n",
    "                    for (var i = 0; i < xRez; ++i) {\n",
    "                        var x = xLen*(i/xRez) - x0;\n",
    "                        var y = yLen*(j/yRez) - y0;\n",
    "                        waveform[4*(i + j*xRez)] = \n",
    "                             10*f_plane(aa*x + bb*y,wp,wlen)*f_win(-bb*x+aa*y,wt);\n",
    "                      }\n",
    "                }\n",
    "                return waveform;\n",
    "            }\n",
    "            function gaussWaveformD(waveform,xRez,yRez,xLen,yLen) {\n",
    "                var aa = Math.cos(Math.PI*wang/180); // rotation matrix\n",
    "                var bb = Math.sin(Math.PI*wang/180);\n",
    "                for (var j = 0; j < yRez; ++j) {\n",
    "                    for (var i = 0; i < xRez; ++i) {\n",
    "                        var x = xLen*(i/xRez) - x0;\n",
    "                        var y = yLen*(j/yRez) - y0;\n",
    "                        waveform[4*(i + j*xRez)] = \n",
    "                             10*f_plane(aa*x + bb*y,wp,wlen)*f_win(-bb*x+aa*y,wt)\n",
    "                                - 10*dt*vel_top*f_planeD(aa*x + bb*y,wp,wlen)*f_win(-bb*x+aa*y,wt);\n",
    "                      }\n",
    "                }\n",
    "                return waveform;\n",
    "            }\n",
    "            // we stuff velocity^2 info into the green channel;\n",
    "            function velField(waveform,xRez,yRez) {\n",
    "                for (var j = 0; j < yRez; ++j) {\n",
    "                    for (var i = 0; i < xRez; ++i) {\n",
    "                        waveform[4*(i + j*xRez) + 1] = \n",
    "                            (j > yRez/2) ? vel_top**2 : vel_bot**2;\n",
    "                    }\n",
    "                }\n",
    "                return waveform;\n",
    "            }\n",
    "\n",
    "            /**\n",
    "             * Run the simulation for n time steps, then show the results.\n",
    "             */\n",
    "            function nextFrame() {\n",
    "                for (var i = 0; i < nsteps; ++i) {\n",
    "                    waveengine.timestep();\n",
    "                }\n",
    "\n",
    "                renderer.show(waveengine.getRenderedTexture());\n",
    "\n",
    "                if (nframes--) {\n",
    "                    requestAnimationFrame(nextFrame);\n",
    "                }\n",
    "            }\n",
    "\n",
    "            waveFunctionData = new Float32Array(4 * xResolution * yResolution);\n",
    "            waveFunctionData = velField(waveFunctionData,xResolution,yResolution);\n",
    "            waveFunctionData = gaussWaveform(waveFunctionData,xResolution,yResolution,xLength,yLength);\n",
    " \n",
    "            waveFunctionDataD = new Float32Array(4 * xResolution * yResolution);\n",
    "            waveFunctionDataD = velField(waveFunctionDataD,xResolution,yResolution);\n",
    "            waveFunctionDataD = gaussWaveformD(waveFunctionDataD,xResolution,yResolution,xLength,yLength);\n",
    " \n",
    "            waveFunctionTexture0 = gpgpUtility.makeTexture(WebGLRenderingContext.FLOAT, waveFunctionData);\n",
    "            waveFunctionTexture1 = gpgpUtility.makeTexture(WebGLRenderingContext.FLOAT, waveFunctionDataD);\n",
    "            waveFunctionTexture2 = gpgpUtility.makeTexture(WebGLRenderingContext.FLOAT, waveFunctionData);\n",
    "\n",
    "\n",
    "            waveengine = new WaveEngine(gpgpUtility, xResolution, yResolution, xLength, yLength, dt);\n",
    "            renderer = new WaveResults(gpgpUtility, parent, xResolution, yResolution);\n",
    "\n",
    "            waveengine.setInitialTextures(waveFunctionTexture0, waveFunctionTexture1, waveFunctionTexture2);\n",
    "\n",
    "            renderer.show(waveengine.getRenderedTexture());\n",
    "\n",
    "            requestAnimationFrame(nextFrame);\n",
    "    </script>\n",
    "</html>"
   ]
  },
  {
   "cell_type": "code",
   "execution_count": 2,
   "metadata": {
    "scrolled": true,
    "slideshow": {
     "slide_type": "slide"
    }
   },
   "outputs": [
    {
     "data": {
      "text/html": [
       "<iframe src='myFile1.html' width=1000 height=1000>\n"
      ],
      "text/plain": [
       "<IPython.core.display.HTML object>"
      ]
     },
     "metadata": {},
     "output_type": "display_data"
    }
   ],
   "source": [
    "%%html \n",
    "<iframe src='myFile1.html' width=1000 height=1000>"
   ]
  },
  {
   "cell_type": "markdown",
   "metadata": {
    "slideshow": {
     "slide_type": "slide"
    }
   },
   "source": [
    "Snell's law by geometry.  Wavelengths related by sines:\n",
    "<center><img src=\"SnellsLaw3.png\" width=\"1000\"  /></center>"
   ]
  },
  {
   "cell_type": "markdown",
   "metadata": {
    "slideshow": {
     "slide_type": "slide"
    }
   },
   "source": [
    "Wavelength, frequency  related by velocity,\n",
    "$$\\lambda f = v,$$ so\n",
    "$$\\frac{\\lambda_2}{\\sin \\theta_2} = \\frac{\\lambda_1}{\\sin \\theta_1} \\quad \\mbox{ becomes } \\quad\n",
    "\\frac{v_2/f}{\\sin \\theta_2} = \\frac{v_1/f}{\\sin \\theta_1}.$$"
   ]
  },
  {
   "cell_type": "markdown",
   "metadata": {
    "slideshow": {
     "slide_type": "slide"
    }
   },
   "source": [
    "Snell's law via ray paths (least time):\n",
    "\n",
    "<center><img src=\"SnellsLaw1.png\" width=\"1000\"  /></center>"
   ]
  },
  {
   "cell_type": "markdown",
   "metadata": {
    "slideshow": {
     "slide_type": "slide"
    }
   },
   "source": [
    "## FWI example (Zubov)\n",
    "\n",
    "2D acoustic wave equation, with velocity the unknown parameter field \n",
    "\n",
    "Three images to watch\n",
    "- estimated velocity \n",
    "- true velicity\n",
    "- misfit of shot record "
   ]
  },
  {
   "cell_type": "code",
   "execution_count": 2,
   "metadata": {
    "slideshow": {
     "slide_type": "slide"
    }
   },
   "outputs": [
    {
     "data": {
      "text/html": [
       "<center><video width=\"1000\"  controls> <source src=\"FWI_Zubov_Horz.mov\"> </video> </center>\n"
      ],
      "text/plain": [
       "<IPython.core.display.HTML object>"
      ]
     },
     "metadata": {},
     "output_type": "display_data"
    }
   ],
   "source": [
    "%%HTML\n",
    "<center><video width=\"1000\"  controls> <source src=\"FWI_Zubov_Horz.mov\"> </video> </center>"
   ]
  },
  {
   "cell_type": "markdown",
   "metadata": {
    "slideshow": {
     "slide_type": "slide"
    }
   },
   "source": [
    "## New sensing mode: DAS (Hardeman-Voys)\n",
    "\n",
    "<center><img src=\"DAS_Newell.png\" width=\"1000\"  /></center>"
   ]
  },
  {
   "cell_type": "markdown",
   "metadata": {
    "slideshow": {
     "slide_type": "slide"
    }
   },
   "source": [
    "## Acknowledgements\n",
    "\n",
    "- Students and PDF: Heather Hardeman-Voys, Da Li, Vladimir Zubov\n",
    "- CREWES sponsors\n",
    "- NSERC CRDPJ 461179-13 , Discovery grant"
   ]
  },
  {
   "cell_type": "markdown",
   "metadata": {
    "slideshow": {
     "slide_type": "slide"
    }
   },
   "source": [
    "## <center> Thank you! </center>"
   ]
  }
 ],
 "metadata": {
  "celltoolbar": "Slideshow",
  "kernelspec": {
   "display_name": "Python 3",
   "language": "python",
   "name": "python3"
  },
  "language_info": {
   "codemirror_mode": {
    "name": "ipython",
    "version": 3
   },
   "file_extension": ".py",
   "mimetype": "text/x-python",
   "name": "python",
   "nbconvert_exporter": "python",
   "pygments_lexer": "ipython3",
   "version": "3.6.7"
  },
  "livereveal": {
   "autolaunch": true,
   "backimage": "background.png",
   "scroll": true
  }
 },
 "nbformat": 4,
 "nbformat_minor": 2
}
